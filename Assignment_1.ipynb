{
 "cells": [
  {
   "cell_type": "code",
   "execution_count": 1,
   "id": "fb75ae24",
   "metadata": {},
   "outputs": [
    {
     "name": "stdout",
     "output_type": "stream",
     "text": [
      "Requirement already satisfied: Flask-SQLAlchemy in /Users/helenm/opt/anaconda3/lib/python3.8/site-packages (2.5.1)\n",
      "Requirement already satisfied: SQLAlchemy>=0.8.0 in /Users/helenm/opt/anaconda3/lib/python3.8/site-packages (from Flask-SQLAlchemy) (1.4.7)\n",
      "Requirement already satisfied: Flask>=0.10 in /Users/helenm/opt/anaconda3/lib/python3.8/site-packages (from Flask-SQLAlchemy) (1.1.2)\n",
      "Requirement already satisfied: Jinja2>=2.10.1 in /Users/helenm/opt/anaconda3/lib/python3.8/site-packages (from Flask>=0.10->Flask-SQLAlchemy) (2.11.3)\n",
      "Requirement already satisfied: click>=5.1 in /Users/helenm/opt/anaconda3/lib/python3.8/site-packages (from Flask>=0.10->Flask-SQLAlchemy) (7.1.2)\n",
      "Requirement already satisfied: itsdangerous>=0.24 in /Users/helenm/opt/anaconda3/lib/python3.8/site-packages (from Flask>=0.10->Flask-SQLAlchemy) (1.1.0)\n",
      "Requirement already satisfied: Werkzeug>=0.15 in /Users/helenm/opt/anaconda3/lib/python3.8/site-packages (from Flask>=0.10->Flask-SQLAlchemy) (1.0.1)\n",
      "Requirement already satisfied: MarkupSafe>=0.23 in /Users/helenm/opt/anaconda3/lib/python3.8/site-packages (from Jinja2>=2.10.1->Flask>=0.10->Flask-SQLAlchemy) (1.1.1)\n",
      "Requirement already satisfied: greenlet!=0.4.17 in /Users/helenm/opt/anaconda3/lib/python3.8/site-packages (from SQLAlchemy>=0.8.0->Flask-SQLAlchemy) (1.0.0)\n",
      "Note: you may need to restart the kernel to use updated packages.\n"
     ]
    }
   ],
   "source": [
    "pip install -U Flask-SQLAlchemy"
   ]
  },
  {
   "cell_type": "code",
   "execution_count": 2,
   "id": "ec38d3e5",
   "metadata": {},
   "outputs": [
    {
     "name": "stdout",
     "output_type": "stream",
     "text": [
      "Requirement already satisfied: flask-login in /Users/helenm/opt/anaconda3/lib/python3.8/site-packages (0.5.0)\n",
      "Requirement already satisfied: Flask in /Users/helenm/opt/anaconda3/lib/python3.8/site-packages (from flask-login) (1.1.2)\n",
      "Requirement already satisfied: Jinja2>=2.10.1 in /Users/helenm/opt/anaconda3/lib/python3.8/site-packages (from Flask->flask-login) (2.11.3)\n",
      "Requirement already satisfied: Werkzeug>=0.15 in /Users/helenm/opt/anaconda3/lib/python3.8/site-packages (from Flask->flask-login) (1.0.1)\n",
      "Requirement already satisfied: itsdangerous>=0.24 in /Users/helenm/opt/anaconda3/lib/python3.8/site-packages (from Flask->flask-login) (1.1.0)\n",
      "Requirement already satisfied: click>=5.1 in /Users/helenm/opt/anaconda3/lib/python3.8/site-packages (from Flask->flask-login) (7.1.2)\n",
      "Requirement already satisfied: MarkupSafe>=0.23 in /Users/helenm/opt/anaconda3/lib/python3.8/site-packages (from Jinja2>=2.10.1->Flask->flask-login) (1.1.1)\n",
      "Note: you may need to restart the kernel to use updated packages.\n"
     ]
    }
   ],
   "source": [
    "pip install flask-login"
   ]
  },
  {
   "cell_type": "code",
   "execution_count": 3,
   "id": "1b659fd3",
   "metadata": {},
   "outputs": [
    {
     "name": "stdout",
     "output_type": "stream",
     "text": [
      "Requirement already satisfied: bcrypt in /Users/helenm/opt/anaconda3/lib/python3.8/site-packages (3.2.0)\n",
      "Requirement already satisfied: cffi>=1.1 in /Users/helenm/opt/anaconda3/lib/python3.8/site-packages (from bcrypt) (1.14.5)\n",
      "Requirement already satisfied: six>=1.4.1 in /Users/helenm/opt/anaconda3/lib/python3.8/site-packages (from bcrypt) (1.15.0)\n",
      "Requirement already satisfied: pycparser in /Users/helenm/opt/anaconda3/lib/python3.8/site-packages (from cffi>=1.1->bcrypt) (2.20)\n",
      "Note: you may need to restart the kernel to use updated packages.\n"
     ]
    }
   ],
   "source": [
    "pip install bcrypt"
   ]
  },
  {
   "cell_type": "code",
   "execution_count": 4,
   "id": "23d8adc2",
   "metadata": {},
   "outputs": [
    {
     "name": "stdout",
     "output_type": "stream",
     "text": [
      "Requirement already satisfied: PyJWT==1.6.4 in /Users/helenm/opt/anaconda3/lib/python3.8/site-packages (1.6.4)\n",
      "Note: you may need to restart the kernel to use updated packages.\n"
     ]
    }
   ],
   "source": [
    "pip install PyJWT==1.6.4"
   ]
  },
  {
   "cell_type": "code",
   "execution_count": null,
   "id": "af0177a6",
   "metadata": {},
   "outputs": [
    {
     "name": "stdout",
     "output_type": "stream",
     "text": [
      " * Serving Flask app \"__main__\" (lazy loading)\n",
      " * Environment: production\n",
      "\u001b[31m   WARNING: This is a development server. Do not use it in a production deployment.\u001b[0m\n",
      "\u001b[2m   Use a production WSGI server instead.\u001b[0m\n",
      " * Debug mode: off\n"
     ]
    },
    {
     "name": "stderr",
     "output_type": "stream",
     "text": [
      "/Users/helenm/opt/anaconda3/lib/python3.8/site-packages/flask_sqlalchemy/__init__.py:872: FSADeprecationWarning: SQLALCHEMY_TRACK_MODIFICATIONS adds significant overhead and will be disabled by default in the future.  Set it to True or False to suppress this warning.\n",
      "  warnings.warn(FSADeprecationWarning(\n",
      " * Running on http://localhost:9041/ (Press CTRL+C to quit)\n"
     ]
    }
   ],
   "source": [
    "from flask import Flask, request, redirect, session, jsonify, make_response\n",
    "from flask_sqlalchemy import SQLAlchemy\n",
    "from flask_login import LoginManager, UserMixin, login_user, login_required, logout_user, current_user\n",
    "from datetime import datetime\n",
    "from flask_bcrypt import Bcrypt\n",
    "import jwt\n",
    "import datetime\n",
    "from functools import wraps\n",
    "\n",
    "\n",
    "app = Flask(__name__)\n",
    "db = SQLAlchemy(app)\n",
    "bcrypt = Bcrypt(app)\n",
    "app.config['SECRET_KEY'] = 'abc'\n",
    "app.config['SQLALCHEMY_DATABASE_URI'] = 'sqlite:///database.db'\n",
    "\n",
    "\n",
    "class User(db.Model, UserMixin):\n",
    "    id = db.Column(db.Integer, primary_key=True)\n",
    "    username = db.Column(db.String(15), unique=True)\n",
    "    password = db.Column(db.String(80))\n",
    "                         \n",
    "                    \n",
    "class Topic(db.Model):\n",
    "    __tablename__ = 'topic'\n",
    "    id = db.Column(db.Integer, primary_key=True)\n",
    "    title = db.Column(db.String(200))\n",
    "    subtitle = db.Column(db.String(200))\n",
    "    user_id = db.Column(db.Integer)\n",
    "    advertise = db.Column(db.Boolean)\n",
    "    \n",
    "db.create_all()\n",
    "\n",
    "def token_required(f):\n",
    "    @wraps(f)\n",
    "    def decorated(*args, **kwargs):\n",
    "        token = None\n",
    "\n",
    "        if 'x-access-token' in request.headers:\n",
    "            token = request.headers['x-access-token']\n",
    "\n",
    "        if not token:\n",
    "            return jsonify({'message' : 'Token is missing!'}), 401\n",
    "\n",
    "        try: \n",
    "            data = jwt.decode(token, app.config['SECRET_KEY'])\n",
    "            current_user = User.query.filter_by(id=data['id']).first()\n",
    "        except:\n",
    "            return jsonify({'message' : 'Token is invalid!'}), 401\n",
    "\n",
    "        return f(current_user, *args, **kwargs)\n",
    "\n",
    "    return decorated\n",
    "\n",
    "@app.route('/signup', methods=['POST'])\n",
    "def register():\n",
    "    data = request.get_json()\n",
    "    hashed_password = bcrypt.generate_password_hash(data['password'])\n",
    "    new_user = User(username=data['username'], password=hashed_password)\n",
    "    db.session.add(new_user)\n",
    "    db.session.commit()\n",
    "    return jsonify({'message' : 'Registration completed!'})\n",
    "\n",
    "\n",
    "@app.route('/login')\n",
    "def login():\n",
    "    auth = request.authorization\n",
    "\n",
    "    if not auth or not auth.username or not auth.password:\n",
    "        return make_response('Could not verify', 401, {'WWW-Authenticate' : 'Basic realm=\"Login required!\"'})\n",
    "\n",
    "    user = User.query.filter_by(username=auth.username).first()\n",
    "\n",
    "    if not user:\n",
    "        return make_response('Could not verify', 401, {'WWW-Authenticate' : 'Basic realm=\"Login required!\"'})\n",
    "\n",
    "    if bcrypt.check_password_hash(user.password, auth.password):\n",
    "        token = jwt.encode({'id' : user.id, 'exp' : datetime.datetime.utcnow() + datetime.timedelta(minutes=15)}, app.config['SECRET_KEY'])\n",
    "\n",
    "        return jsonify({'token' : token.decode('UTF-8')})\n",
    "\n",
    "    return make_response('Could not verify', 401, {'WWW-Authenticate' : 'Basic realm=\"Login required!\"'})\n",
    "\n",
    "@app.route('/topic', methods=['GET'])\n",
    "@token_required\n",
    "\n",
    "def get_all_topics(current_user):\n",
    "    topics = Topic.query.all()\n",
    "\n",
    "    output = []\n",
    "\n",
    "    for topic in topics:\n",
    "        topic_data = {}\n",
    "        topic_data['advertise'] = topic.advertise\n",
    "        topic_data['id'] = topic.id\n",
    "        topic_data['subtitle'] = topic.subtitle\n",
    "        topic_data['title'] = topic.title\n",
    "        topic_data['user_id'] = topic.user_id\n",
    "        output.append(topic_data)\n",
    "\n",
    "    return jsonify({'topics' : output})\n",
    "\n",
    "\n",
    "@app.route('/mytopic', methods=['GET'])\n",
    "@token_required\n",
    "def get_topics_of_one_user(current_user):\n",
    "    topics = Topic.query.filter_by(user_id=current_user.id).all()\n",
    "\n",
    "    output = []\n",
    "\n",
    "    for topic in topics:\n",
    "        topic_data = {}\n",
    "        topic_data['advertise'] = topic.advertise\n",
    "        topic_data['id'] = topic.id\n",
    "        topic_data['subtitle'] = topic.subtitle\n",
    "        topic_data['title'] = topic.title\n",
    "        topic_data['user_id'] = topic.user_id\n",
    "        output.append(topic_data)\n",
    "\n",
    "    return jsonify({'topics' : output})\n",
    "\n",
    "\n",
    "@app.route('/topic/<topic_id>', methods=['GET'])\n",
    "@token_required\n",
    "def get_one_topic(current_user, topic_id):\n",
    "    topic = Topic.query.filter_by(id=topic_id, user_id=current_user.id).first()\n",
    "\n",
    "    if not topic:\n",
    "        return jsonify({'message' : 'No topic found'})\n",
    "\n",
    "    topic_data = {}\n",
    "    topic_data['advertise'] = topic.advertise\n",
    "    topic_data['id'] = topic.id\n",
    "    topic_data['subtitle'] = topic.subtitle\n",
    "    topic_data['title'] = topic.title\n",
    "    topic_data['user_id'] = topic.user_id\n",
    "\n",
    "    return jsonify(topic_data)\n",
    "\n",
    "@app.route('/topic', methods=['POST'])\n",
    "@token_required\n",
    "def create_topic(current_user):\n",
    "    data = request.get_json()\n",
    "\n",
    "    new_topic = Topic(title=data['title'], advertise=False, subtitle=data['subtitle'], user_id=current_user.id)\n",
    "    db.session.add(new_topic)\n",
    "    db.session.commit()\n",
    "\n",
    "    return jsonify({'message' : \"Topic created!\"})\n",
    "\n",
    "@app.route('/topic/<topic_id>', methods=['PUT'])\n",
    "@token_required\n",
    "def update_topic(current_user, topic_id):\n",
    "    topic = Topic.query.filter_by(id=topic_id, user_id=current_user.id).first()\n",
    "\n",
    "    if not topic:\n",
    "        return jsonify({'message' : 'No topic found!'})\n",
    "\n",
    "    topic.advertise = True\n",
    "    db.session.commit()\n",
    "\n",
    "    return jsonify({'message' : 'Topic item has been updated!'})\n",
    "\n",
    "@app.route('/topic/<topic_id>', methods=['DELETE'])\n",
    "@token_required\n",
    "def delete_topic(current_user, topic_id):\n",
    "    topic = Topic.query.filter_by(id=topic_id, user_id=current_user.id).first()\n",
    "\n",
    "    if not topic:\n",
    "        return jsonify({'message' : 'No topic found!'})\n",
    "\n",
    "    db.session.delete(topic)\n",
    "    db.session.commit()\n",
    "\n",
    "    return jsonify({'message' : 'Topic deleted!'})\n",
    "\n",
    "\n",
    "if __name__ == \"__main__\":\n",
    "    app.run('localhost', port=9041)"
   ]
  },
  {
   "cell_type": "code",
   "execution_count": null,
   "id": "9533a724",
   "metadata": {},
   "outputs": [],
   "source": []
  }
 ],
 "metadata": {
  "kernelspec": {
   "display_name": "Python 3",
   "language": "python",
   "name": "python3"
  },
  "language_info": {
   "codemirror_mode": {
    "name": "ipython",
    "version": 3
   },
   "file_extension": ".py",
   "mimetype": "text/x-python",
   "name": "python",
   "nbconvert_exporter": "python",
   "pygments_lexer": "ipython3",
   "version": "3.8.8"
  }
 },
 "nbformat": 4,
 "nbformat_minor": 5
}
